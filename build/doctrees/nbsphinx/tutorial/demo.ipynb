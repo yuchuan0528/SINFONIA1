{
 "cells": [
  {
   "cell_type": "markdown",
   "metadata": {},
   "source": [
    "# stPlus"
   ]
  },
  {
   "cell_type": "markdown",
   "metadata": {},
   "source": [
    "stPlus is a reference-based method for the enhancement of spatial transcriptomics. Leveraging the holistic information in reference scRNA-seq data but not limited to the genes shared with spatial data, stPlus performs non-linear embedding for cells in both datasets and effectively predicts unmeasured spatial gene expression."
   ]
  },
  {
   "cell_type": "markdown",
   "metadata": {},
   "source": [
    "The **required inputs** of stPlus including\n",
    "\n",
    "* **spatial_df**:       normalized and logarithmized original spatial data\n",
    "* **scrna_df**:         normalized and logarithmized reference scRNA-seq data\n",
    "* **genes_to_predict**: spatial genes to be predicted\n",
    "\n",
    "The **output** of stPlus is\n",
    "\n",
    "* **stPlus_res**:       predicted spatial transcriptomics data"
   ]
  },
  {
   "cell_type": "code",
   "execution_count": null,
   "metadata": {},
   "outputs": [],
   "source": []
  },
  {
   "cell_type": "markdown",
   "metadata": {},
   "source": [
    "Import the package of stPlus\n",
    "\n",
    "The frequently used packages such as pandas (pd), numpy (np) and torch will be automatically imported along with stPlus."
   ]
  },
  {
   "cell_type": "code",
   "execution_count": 1,
   "metadata": {
    "ExecuteTime": {
     "end_time": "2021-01-28T14:04:04.881439Z",
     "start_time": "2021-01-28T14:04:02.114378Z"
    }
   },
   "outputs": [],
   "source": [
    "from stPlus import *"
   ]
  },
  {
   "cell_type": "markdown",
   "metadata": {
    "ExecuteTime": {
     "end_time": "2020-11-29T05:22:32.435015Z",
     "start_time": "2020-11-29T05:22:32.429792Z"
    }
   },
   "source": [
    "Check the fundamentals of stPlus via"
   ]
  },
  {
   "cell_type": "code",
   "execution_count": 2,
   "metadata": {
    "ExecuteTime": {
     "end_time": "2021-01-28T14:04:04.889616Z",
     "start_time": "2021-01-28T14:04:04.885701Z"
    }
   },
   "outputs": [
    {
     "name": "stdout",
     "output_type": "stream",
     "text": [
      "Help on function stPlus in module stPlus.model:\n",
      "\n",
      "stPlus(spatial_df, scrna_df, genes_to_predict, save_path_prefix='./stPlus', top_k=2000, t_min=5, data_quality=None, random_seed=None, verbose=True, n_neighbors=50, converge_ratio=0.004, max_epoch_num=10000, batch_size=512, learning_rate=None, weight_decay=0.0002)\n",
      "    spatial_df:       [pandas dataframe] normalized and logarithmized original spatial data (cell by gene)\n",
      "    scrna_df:         [pandas dataframe] normalized and logarithmized reference scRNA-seq data (cell by gene)\n",
      "    genes_to_predict: [1D numpy array] spatial genes to be predicted\n",
      "    save_path_prefix: [str] prefix of path of trained t models with minimal loss\n",
      "    top_k:            [int] number of highly variable genes to use\n",
      "    t_min:            [int] number of epochs with minimal loss using to ensemble learning\n",
      "    data_quality:     [float] user-specified or 1 minus the sparsity of scRNA-seq data (default)\n",
      "    random_seed:      [int] random seed in torch\n",
      "    verbose:          [bool] display the running progress or not\n",
      "    n_neighbors:      [int] number of neighbors used to predict\n",
      "    converge_ratio:   [float] loss converge ratio\n",
      "    max_epoch_num:    [int] maximum number of epochs\n",
      "    batch_size:       [int] batch size for model training\n",
      "    learning_rate:    [float] learning rate for model training\n",
      "    weight_decay:     [float] weight decay for model training\n",
      "    stPlus_res:       [pandas dataframe] predicted spatial data (cell by gene)\n",
      "\n"
     ]
    }
   ],
   "source": [
    "help(stPlus)"
   ]
  },
  {
   "cell_type": "code",
   "execution_count": null,
   "metadata": {},
   "outputs": [],
   "source": []
  },
  {
   "cell_type": "code",
   "execution_count": null,
   "metadata": {},
   "outputs": [],
   "source": []
  },
  {
   "cell_type": "code",
   "execution_count": null,
   "metadata": {},
   "outputs": [],
   "source": []
  },
  {
   "cell_type": "markdown",
   "metadata": {},
   "source": [
    "# Getting Started stPlus Application"
   ]
  },
  {
   "cell_type": "markdown",
   "metadata": {},
   "source": [
    "Load the normalized and logarithmized spatial and scRNA-seq data, and the genes to predict\n",
    "\n",
    "The data can be accessed via\n",
    "\n",
    "```\n",
    "git clone git://github.com/xy-chen16/stPlus.git\n",
    "cd stPlus\n",
    "tar -zxvf data.tar.gz\n",
    "```"
   ]
  },
  {
   "cell_type": "code",
   "execution_count": 3,
   "metadata": {
    "ExecuteTime": {
     "end_time": "2021-01-28T14:04:05.078711Z",
     "start_time": "2021-01-28T14:04:05.075077Z"
    }
   },
   "outputs": [],
   "source": [
    "spatial_df_file = './data/osmFISH_df.csv'\n",
    "scrna_df_file   = './data/Zeisel_df.csv'\n",
    "genes_file      = './data/genes_to_predict.txt'"
   ]
  },
  {
   "cell_type": "code",
   "execution_count": 4,
   "metadata": {
    "ExecuteTime": {
     "end_time": "2021-01-28T14:04:18.614915Z",
     "start_time": "2021-01-28T14:04:05.599061Z"
    }
   },
   "outputs": [],
   "source": [
    "spatial_df = pd.read_csv(spatial_df_file)\n",
    "scrna_df   = pd.read_csv(scrna_df_file)\n",
    "genes_to_predict = pd.read_csv(genes_file, header=None).iloc[:,0].values"
   ]
  },
  {
   "cell_type": "code",
   "execution_count": 5,
   "metadata": {
    "ExecuteTime": {
     "end_time": "2021-01-28T14:04:18.650183Z",
     "start_time": "2021-01-28T14:04:18.616734Z"
    }
   },
   "outputs": [
    {
     "data": {
      "text/html": [
       "<div>\n",
       "<style scoped>\n",
       "    .dataframe tbody tr th:only-of-type {\n",
       "        vertical-align: middle;\n",
       "    }\n",
       "\n",
       "    .dataframe tbody tr th {\n",
       "        vertical-align: top;\n",
       "    }\n",
       "\n",
       "    .dataframe thead th {\n",
       "        text-align: right;\n",
       "    }\n",
       "</style>\n",
       "<table border=\"1\" class=\"dataframe\">\n",
       "  <thead>\n",
       "    <tr style=\"text-align: right;\">\n",
       "      <th></th>\n",
       "      <th>Gad2</th>\n",
       "      <th>Slc32a1</th>\n",
       "      <th>Crhbp</th>\n",
       "      <th>Cnr1</th>\n",
       "      <th>Vip</th>\n",
       "      <th>Cpne5</th>\n",
       "      <th>Pthlh</th>\n",
       "      <th>Crh</th>\n",
       "      <th>Tbr1</th>\n",
       "      <th>Lamp5</th>\n",
       "      <th>...</th>\n",
       "      <th>Ctps</th>\n",
       "      <th>Anln</th>\n",
       "      <th>Mrc1</th>\n",
       "      <th>Hexb</th>\n",
       "      <th>Ttr</th>\n",
       "      <th>Foxj1</th>\n",
       "      <th>Vtn</th>\n",
       "      <th>Flt1</th>\n",
       "      <th>Apln</th>\n",
       "      <th>Acta2</th>\n",
       "    </tr>\n",
       "  </thead>\n",
       "  <tbody>\n",
       "    <tr>\n",
       "      <th>0</th>\n",
       "      <td>2.777385</td>\n",
       "      <td>2.926465</td>\n",
       "      <td>0.000000</td>\n",
       "      <td>1.390133</td>\n",
       "      <td>0.829559</td>\n",
       "      <td>2.119032</td>\n",
       "      <td>0.000000</td>\n",
       "      <td>0.621403</td>\n",
       "      <td>2.536136</td>\n",
       "      <td>1.492039</td>\n",
       "      <td>...</td>\n",
       "      <td>2.009762</td>\n",
       "      <td>1.276651</td>\n",
       "      <td>1.001762</td>\n",
       "      <td>2.065889</td>\n",
       "      <td>1.001762</td>\n",
       "      <td>0.829559</td>\n",
       "      <td>0.621403</td>\n",
       "      <td>0.000000</td>\n",
       "      <td>1.001762</td>\n",
       "      <td>0.829559</td>\n",
       "    </tr>\n",
       "    <tr>\n",
       "      <th>1</th>\n",
       "      <td>3.699013</td>\n",
       "      <td>3.059924</td>\n",
       "      <td>1.123004</td>\n",
       "      <td>0.346999</td>\n",
       "      <td>0.604114</td>\n",
       "      <td>0.346999</td>\n",
       "      <td>0.346999</td>\n",
       "      <td>0.808458</td>\n",
       "      <td>1.462912</td>\n",
       "      <td>0.000000</td>\n",
       "      <td>...</td>\n",
       "      <td>1.123004</td>\n",
       "      <td>0.808458</td>\n",
       "      <td>0.346999</td>\n",
       "      <td>0.808458</td>\n",
       "      <td>0.346999</td>\n",
       "      <td>0.346999</td>\n",
       "      <td>0.604114</td>\n",
       "      <td>0.000000</td>\n",
       "      <td>0.978048</td>\n",
       "      <td>0.346999</td>\n",
       "    </tr>\n",
       "    <tr>\n",
       "      <th>2</th>\n",
       "      <td>3.663039</td>\n",
       "      <td>3.480582</td>\n",
       "      <td>2.220487</td>\n",
       "      <td>0.521361</td>\n",
       "      <td>0.862314</td>\n",
       "      <td>0.000000</td>\n",
       "      <td>1.222337</td>\n",
       "      <td>0.521361</td>\n",
       "      <td>2.143296</td>\n",
       "      <td>0.000000</td>\n",
       "      <td>...</td>\n",
       "      <td>0.997242</td>\n",
       "      <td>0.862314</td>\n",
       "      <td>0.706299</td>\n",
       "      <td>2.256957</td>\n",
       "      <td>0.294279</td>\n",
       "      <td>0.862314</td>\n",
       "      <td>0.997242</td>\n",
       "      <td>0.000000</td>\n",
       "      <td>0.521361</td>\n",
       "      <td>0.706299</td>\n",
       "    </tr>\n",
       "    <tr>\n",
       "      <th>3</th>\n",
       "      <td>3.428742</td>\n",
       "      <td>2.682501</td>\n",
       "      <td>0.831733</td>\n",
       "      <td>1.279431</td>\n",
       "      <td>0.499956</td>\n",
       "      <td>0.000000</td>\n",
       "      <td>1.184873</td>\n",
       "      <td>0.000000</td>\n",
       "      <td>3.079924</td>\n",
       "      <td>0.963793</td>\n",
       "      <td>...</td>\n",
       "      <td>1.279431</td>\n",
       "      <td>0.000000</td>\n",
       "      <td>0.963793</td>\n",
       "      <td>1.587579</td>\n",
       "      <td>0.963793</td>\n",
       "      <td>0.280902</td>\n",
       "      <td>0.280902</td>\n",
       "      <td>0.000000</td>\n",
       "      <td>0.280902</td>\n",
       "      <td>0.963793</td>\n",
       "    </tr>\n",
       "    <tr>\n",
       "      <th>4</th>\n",
       "      <td>2.433613</td>\n",
       "      <td>3.250374</td>\n",
       "      <td>0.000000</td>\n",
       "      <td>2.282382</td>\n",
       "      <td>0.955511</td>\n",
       "      <td>0.000000</td>\n",
       "      <td>0.000000</td>\n",
       "      <td>0.000000</td>\n",
       "      <td>1.223775</td>\n",
       "      <td>4.506454</td>\n",
       "      <td>...</td>\n",
       "      <td>1.435085</td>\n",
       "      <td>0.587787</td>\n",
       "      <td>0.955511</td>\n",
       "      <td>1.223775</td>\n",
       "      <td>0.587787</td>\n",
       "      <td>0.587787</td>\n",
       "      <td>0.587787</td>\n",
       "      <td>0.587787</td>\n",
       "      <td>1.223775</td>\n",
       "      <td>0.000000</td>\n",
       "    </tr>\n",
       "  </tbody>\n",
       "</table>\n",
       "<p>5 rows × 33 columns</p>\n",
       "</div>"
      ],
      "text/plain": [
       "       Gad2   Slc32a1     Crhbp      Cnr1       Vip     Cpne5     Pthlh  \\\n",
       "0  2.777385  2.926465  0.000000  1.390133  0.829559  2.119032  0.000000   \n",
       "1  3.699013  3.059924  1.123004  0.346999  0.604114  0.346999  0.346999   \n",
       "2  3.663039  3.480582  2.220487  0.521361  0.862314  0.000000  1.222337   \n",
       "3  3.428742  2.682501  0.831733  1.279431  0.499956  0.000000  1.184873   \n",
       "4  2.433613  3.250374  0.000000  2.282382  0.955511  0.000000  0.000000   \n",
       "\n",
       "        Crh      Tbr1     Lamp5  ...      Ctps      Anln      Mrc1      Hexb  \\\n",
       "0  0.621403  2.536136  1.492039  ...  2.009762  1.276651  1.001762  2.065889   \n",
       "1  0.808458  1.462912  0.000000  ...  1.123004  0.808458  0.346999  0.808458   \n",
       "2  0.521361  2.143296  0.000000  ...  0.997242  0.862314  0.706299  2.256957   \n",
       "3  0.000000  3.079924  0.963793  ...  1.279431  0.000000  0.963793  1.587579   \n",
       "4  0.000000  1.223775  4.506454  ...  1.435085  0.587787  0.955511  1.223775   \n",
       "\n",
       "        Ttr     Foxj1       Vtn      Flt1      Apln     Acta2  \n",
       "0  1.001762  0.829559  0.621403  0.000000  1.001762  0.829559  \n",
       "1  0.346999  0.346999  0.604114  0.000000  0.978048  0.346999  \n",
       "2  0.294279  0.862314  0.997242  0.000000  0.521361  0.706299  \n",
       "3  0.963793  0.280902  0.280902  0.000000  0.280902  0.963793  \n",
       "4  0.587787  0.587787  0.587787  0.587787  1.223775  0.000000  \n",
       "\n",
       "[5 rows x 33 columns]"
      ]
     },
     "execution_count": 5,
     "metadata": {},
     "output_type": "execute_result"
    }
   ],
   "source": [
    "spatial_df.head()"
   ]
  },
  {
   "cell_type": "code",
   "execution_count": 6,
   "metadata": {
    "ExecuteTime": {
     "end_time": "2021-01-28T14:04:18.696615Z",
     "start_time": "2021-01-28T14:04:18.652069Z"
    }
   },
   "outputs": [
    {
     "data": {
      "text/html": [
       "<div>\n",
       "<style scoped>\n",
       "    .dataframe tbody tr th:only-of-type {\n",
       "        vertical-align: middle;\n",
       "    }\n",
       "\n",
       "    .dataframe tbody tr th {\n",
       "        vertical-align: top;\n",
       "    }\n",
       "\n",
       "    .dataframe thead th {\n",
       "        text-align: right;\n",
       "    }\n",
       "</style>\n",
       "<table border=\"1\" class=\"dataframe\">\n",
       "  <thead>\n",
       "    <tr style=\"text-align: right;\">\n",
       "      <th></th>\n",
       "      <th>Tspan12</th>\n",
       "      <th>Tshz1</th>\n",
       "      <th>Fnbp1l</th>\n",
       "      <th>Adamts15</th>\n",
       "      <th>Cldn12</th>\n",
       "      <th>Rxfp1</th>\n",
       "      <th>2310042E22Rik</th>\n",
       "      <th>Sema3c</th>\n",
       "      <th>Jam2</th>\n",
       "      <th>Apbb1ip</th>\n",
       "      <th>...</th>\n",
       "      <th>Rab9</th>\n",
       "      <th>Tceanc</th>\n",
       "      <th>Msl3</th>\n",
       "      <th>Arhgap6</th>\n",
       "      <th>Mid1</th>\n",
       "      <th>Vamp7</th>\n",
       "      <th>Tmlhe</th>\n",
       "      <th>Zf12</th>\n",
       "      <th>Kdm5d</th>\n",
       "      <th>Uty</th>\n",
       "    </tr>\n",
       "  </thead>\n",
       "  <tbody>\n",
       "    <tr>\n",
       "      <th>0</th>\n",
       "      <td>0.000000</td>\n",
       "      <td>4.942366</td>\n",
       "      <td>4.942366</td>\n",
       "      <td>0.0</td>\n",
       "      <td>3.857929</td>\n",
       "      <td>0.0</td>\n",
       "      <td>0.000000</td>\n",
       "      <td>6.236445</td>\n",
       "      <td>3.857929</td>\n",
       "      <td>0.0</td>\n",
       "      <td>...</td>\n",
       "      <td>5.785577</td>\n",
       "      <td>0.0</td>\n",
       "      <td>0.000000</td>\n",
       "      <td>0.0</td>\n",
       "      <td>0.0</td>\n",
       "      <td>5.450333</td>\n",
       "      <td>0.0</td>\n",
       "      <td>0.0</td>\n",
       "      <td>0.0</td>\n",
       "      <td>0.000000</td>\n",
       "    </tr>\n",
       "    <tr>\n",
       "      <th>1</th>\n",
       "      <td>0.000000</td>\n",
       "      <td>3.850649</td>\n",
       "      <td>3.850649</td>\n",
       "      <td>0.0</td>\n",
       "      <td>3.850649</td>\n",
       "      <td>0.0</td>\n",
       "      <td>0.000000</td>\n",
       "      <td>0.000000</td>\n",
       "      <td>0.000000</td>\n",
       "      <td>0.0</td>\n",
       "      <td>...</td>\n",
       "      <td>3.850649</td>\n",
       "      <td>0.0</td>\n",
       "      <td>0.000000</td>\n",
       "      <td>0.0</td>\n",
       "      <td>0.0</td>\n",
       "      <td>0.000000</td>\n",
       "      <td>0.0</td>\n",
       "      <td>0.0</td>\n",
       "      <td>0.0</td>\n",
       "      <td>0.000000</td>\n",
       "    </tr>\n",
       "    <tr>\n",
       "      <th>2</th>\n",
       "      <td>0.000000</td>\n",
       "      <td>0.000000</td>\n",
       "      <td>5.251013</td>\n",
       "      <td>0.0</td>\n",
       "      <td>3.485126</td>\n",
       "      <td>0.0</td>\n",
       "      <td>4.162830</td>\n",
       "      <td>6.674137</td>\n",
       "      <td>3.485126</td>\n",
       "      <td>0.0</td>\n",
       "      <td>...</td>\n",
       "      <td>3.485126</td>\n",
       "      <td>0.0</td>\n",
       "      <td>4.162830</td>\n",
       "      <td>0.0</td>\n",
       "      <td>0.0</td>\n",
       "      <td>4.563094</td>\n",
       "      <td>0.0</td>\n",
       "      <td>0.0</td>\n",
       "      <td>0.0</td>\n",
       "      <td>5.404414</td>\n",
       "    </tr>\n",
       "    <tr>\n",
       "      <th>3</th>\n",
       "      <td>4.523832</td>\n",
       "      <td>4.123776</td>\n",
       "      <td>4.808798</td>\n",
       "      <td>0.0</td>\n",
       "      <td>0.000000</td>\n",
       "      <td>0.0</td>\n",
       "      <td>4.523832</td>\n",
       "      <td>3.446682</td>\n",
       "      <td>0.000000</td>\n",
       "      <td>0.0</td>\n",
       "      <td>...</td>\n",
       "      <td>4.523832</td>\n",
       "      <td>0.0</td>\n",
       "      <td>3.446682</td>\n",
       "      <td>0.0</td>\n",
       "      <td>0.0</td>\n",
       "      <td>0.000000</td>\n",
       "      <td>0.0</td>\n",
       "      <td>0.0</td>\n",
       "      <td>0.0</td>\n",
       "      <td>0.000000</td>\n",
       "    </tr>\n",
       "    <tr>\n",
       "      <th>4</th>\n",
       "      <td>0.000000</td>\n",
       "      <td>4.542944</td>\n",
       "      <td>3.860383</td>\n",
       "      <td>0.0</td>\n",
       "      <td>0.000000</td>\n",
       "      <td>0.0</td>\n",
       "      <td>0.000000</td>\n",
       "      <td>6.143832</td>\n",
       "      <td>0.000000</td>\n",
       "      <td>0.0</td>\n",
       "      <td>...</td>\n",
       "      <td>0.000000</td>\n",
       "      <td>0.0</td>\n",
       "      <td>5.230756</td>\n",
       "      <td>0.0</td>\n",
       "      <td>0.0</td>\n",
       "      <td>4.944856</td>\n",
       "      <td>0.0</td>\n",
       "      <td>0.0</td>\n",
       "      <td>0.0</td>\n",
       "      <td>0.000000</td>\n",
       "    </tr>\n",
       "  </tbody>\n",
       "</table>\n",
       "<p>5 rows × 15075 columns</p>\n",
       "</div>"
      ],
      "text/plain": [
       "    Tspan12     Tshz1    Fnbp1l  Adamts15    Cldn12  Rxfp1  2310042E22Rik  \\\n",
       "0  0.000000  4.942366  4.942366       0.0  3.857929    0.0       0.000000   \n",
       "1  0.000000  3.850649  3.850649       0.0  3.850649    0.0       0.000000   \n",
       "2  0.000000  0.000000  5.251013       0.0  3.485126    0.0       4.162830   \n",
       "3  4.523832  4.123776  4.808798       0.0  0.000000    0.0       4.523832   \n",
       "4  0.000000  4.542944  3.860383       0.0  0.000000    0.0       0.000000   \n",
       "\n",
       "     Sema3c      Jam2  Apbb1ip  ...      Rab9  Tceanc      Msl3  Arhgap6  \\\n",
       "0  6.236445  3.857929      0.0  ...  5.785577     0.0  0.000000      0.0   \n",
       "1  0.000000  0.000000      0.0  ...  3.850649     0.0  0.000000      0.0   \n",
       "2  6.674137  3.485126      0.0  ...  3.485126     0.0  4.162830      0.0   \n",
       "3  3.446682  0.000000      0.0  ...  4.523832     0.0  3.446682      0.0   \n",
       "4  6.143832  0.000000      0.0  ...  0.000000     0.0  5.230756      0.0   \n",
       "\n",
       "   Mid1     Vamp7  Tmlhe  Zf12  Kdm5d       Uty  \n",
       "0   0.0  5.450333    0.0   0.0    0.0  0.000000  \n",
       "1   0.0  0.000000    0.0   0.0    0.0  0.000000  \n",
       "2   0.0  4.563094    0.0   0.0    0.0  5.404414  \n",
       "3   0.0  0.000000    0.0   0.0    0.0  0.000000  \n",
       "4   0.0  4.944856    0.0   0.0    0.0  0.000000  \n",
       "\n",
       "[5 rows x 15075 columns]"
      ]
     },
     "execution_count": 6,
     "metadata": {},
     "output_type": "execute_result"
    }
   ],
   "source": [
    "scrna_df.head()"
   ]
  },
  {
   "cell_type": "code",
   "execution_count": 7,
   "metadata": {
    "ExecuteTime": {
     "end_time": "2021-01-28T14:04:18.702853Z",
     "start_time": "2021-01-28T14:04:18.698673Z"
    }
   },
   "outputs": [
    {
     "data": {
      "text/plain": [
       "array(['Tesc', 'Pvrl3', 'Grm2'], dtype=object)"
      ]
     },
     "execution_count": 7,
     "metadata": {},
     "output_type": "execute_result"
    }
   ],
   "source": [
    "genes_to_predict"
   ]
  },
  {
   "cell_type": "markdown",
   "metadata": {},
   "source": [
    "Run stPlus"
   ]
  },
  {
   "cell_type": "code",
   "execution_count": 8,
   "metadata": {
    "ExecuteTime": {
     "end_time": "2021-01-28T14:05:47.836627Z",
     "start_time": "2021-01-28T14:04:18.704742Z"
    }
   },
   "outputs": [
    {
     "name": "stdout",
     "output_type": "stream",
     "text": [
      "Models will be saved in: ./model/stPlus-demo-5min*.pt\n",
      "\n",
      "Spatial transcriptomics data: 3405 cells * 33 genes\n",
      "Reference scRNA-seq data:     1691 cells * 15075 genes\n",
      "3 genes to be predicted\n",
      "\n",
      "Start initialization\n",
      "Start embedding\n",
      "\t[1] recon_loss: 17203.548, pred_loss: 90388.025, total_loss: 107591.573\n",
      "\t[2] recon_loss: 10213.595, pred_loss: 54336.520, total_loss: 64550.114\n",
      "\t[3] recon_loss: 8357.641, pred_loss: 49231.158, total_loss: 57588.799\n",
      "\t[4] recon_loss: 7236.344, pred_loss: 46241.893, total_loss: 53478.237\n",
      "\t[5] recon_loss: 6078.648, pred_loss: 44857.473, total_loss: 50936.121\n",
      "\t[6] recon_loss: 5135.076, pred_loss: 43864.600, total_loss: 48999.676\n",
      "\t[7] recon_loss: 4502.876, pred_loss: 43209.645, total_loss: 47712.521\n",
      "\t[8] recon_loss: 4111.535, pred_loss: 42792.704, total_loss: 46904.238\n",
      "\t[9] recon_loss: 3823.475, pred_loss: 42349.922, total_loss: 46173.397\n",
      "\t[10] recon_loss: 3590.203, pred_loss: 41935.582, total_loss: 45525.785\n",
      "\t[11] recon_loss: 3453.445, pred_loss: 41591.686, total_loss: 45045.131\n",
      "\t[12] recon_loss: 3374.901, pred_loss: 41314.583, total_loss: 44689.483\n",
      "\t[13] recon_loss: 3317.524, pred_loss: 41037.848, total_loss: 44355.371\n",
      "\t[14] recon_loss: 3287.271, pred_loss: 40803.825, total_loss: 44091.096\n",
      "\t[15] recon_loss: 3276.855, pred_loss: 40528.455, total_loss: 43805.310\n",
      "\t[16] recon_loss: 3254.484, pred_loss: 40275.433, total_loss: 43529.917\n",
      "\t[17] recon_loss: 3244.523, pred_loss: 40063.094, total_loss: 43307.617\n",
      "\t[18] recon_loss: 3234.904, pred_loss: 39843.612, total_loss: 43078.517\n",
      "\t[19] recon_loss: 3257.685, pred_loss: 39587.000, total_loss: 42844.684\n",
      "\t[20] recon_loss: 3241.679, pred_loss: 39323.933, total_loss: 42565.611\n",
      "\t[21] recon_loss: 3234.252, pred_loss: 39135.255, total_loss: 42369.508\n",
      "\t[22] recon_loss: 3223.576, pred_loss: 38870.880, total_loss: 42094.456\n",
      "\t[23] recon_loss: 3220.039, pred_loss: 38677.736, total_loss: 41897.775\n",
      "\t[24] recon_loss: 3224.211, pred_loss: 38449.658, total_loss: 41673.869\n",
      "\t[25] recon_loss: 3225.118, pred_loss: 38257.383, total_loss: 41482.501\n",
      "\t[26] recon_loss: 3220.878, pred_loss: 38035.258, total_loss: 41256.136\n",
      "\t[27] recon_loss: 3219.822, pred_loss: 37814.650, total_loss: 41034.472\n",
      "\t[28] recon_loss: 3218.807, pred_loss: 37568.328, total_loss: 40787.136\n",
      "\t[29] recon_loss: 3224.159, pred_loss: 37301.243, total_loss: 40525.402\n",
      "\t[30] recon_loss: 3220.634, pred_loss: 37097.109, total_loss: 40317.742\n",
      "\t[31] recon_loss: 3222.785, pred_loss: 36882.865, total_loss: 40105.651\n",
      "\t[32] recon_loss: 3232.968, pred_loss: 36697.815, total_loss: 39930.784\n",
      "\t[33] recon_loss: 3230.321, pred_loss: 36480.995, total_loss: 39711.316\n",
      "\t[34] recon_loss: 3243.827, pred_loss: 36257.982, total_loss: 39501.809\n",
      "\t[35] recon_loss: 3226.956, pred_loss: 36033.323, total_loss: 39260.279\n",
      "\t[36] recon_loss: 3246.395, pred_loss: 35871.184, total_loss: 39117.579\n",
      "Start prediction\n",
      "\tUsing model 1 to predict\n",
      "\tUsing model 2 to predict\n",
      "\tUsing model 3 to predict\n",
      "\tUsing model 4 to predict\n",
      "\tUsing model 5 to predict\n"
     ]
    }
   ],
   "source": [
    "save_path_prefix = './model/stPlus-demo'\n",
    "stPlus_res = stPlus(spatial_df, scrna_df, genes_to_predict, save_path_prefix, random_seed=10)"
   ]
  },
  {
   "cell_type": "markdown",
   "metadata": {},
   "source": [
    "Obtain the following predicted spatial transcriptomics data"
   ]
  },
  {
   "cell_type": "code",
   "execution_count": 9,
   "metadata": {
    "ExecuteTime": {
     "end_time": "2021-01-28T14:05:47.848279Z",
     "start_time": "2021-01-28T14:05:47.838704Z"
    }
   },
   "outputs": [
    {
     "data": {
      "text/html": [
       "<div>\n",
       "<style scoped>\n",
       "    .dataframe tbody tr th:only-of-type {\n",
       "        vertical-align: middle;\n",
       "    }\n",
       "\n",
       "    .dataframe tbody tr th {\n",
       "        vertical-align: top;\n",
       "    }\n",
       "\n",
       "    .dataframe thead th {\n",
       "        text-align: right;\n",
       "    }\n",
       "</style>\n",
       "<table border=\"1\" class=\"dataframe\">\n",
       "  <thead>\n",
       "    <tr style=\"text-align: right;\">\n",
       "      <th></th>\n",
       "      <th>Tesc</th>\n",
       "      <th>Pvrl3</th>\n",
       "      <th>Grm2</th>\n",
       "    </tr>\n",
       "  </thead>\n",
       "  <tbody>\n",
       "    <tr>\n",
       "      <th>0</th>\n",
       "      <td>1.314772</td>\n",
       "      <td>1.774769</td>\n",
       "      <td>1.164707</td>\n",
       "    </tr>\n",
       "    <tr>\n",
       "      <th>1</th>\n",
       "      <td>0.695193</td>\n",
       "      <td>2.171672</td>\n",
       "      <td>0.468714</td>\n",
       "    </tr>\n",
       "    <tr>\n",
       "      <th>2</th>\n",
       "      <td>0.544767</td>\n",
       "      <td>2.187255</td>\n",
       "      <td>0.377925</td>\n",
       "    </tr>\n",
       "    <tr>\n",
       "      <th>3</th>\n",
       "      <td>0.925574</td>\n",
       "      <td>2.159383</td>\n",
       "      <td>0.873194</td>\n",
       "    </tr>\n",
       "    <tr>\n",
       "      <th>4</th>\n",
       "      <td>0.091284</td>\n",
       "      <td>2.185003</td>\n",
       "      <td>0.089993</td>\n",
       "    </tr>\n",
       "  </tbody>\n",
       "</table>\n",
       "</div>"
      ],
      "text/plain": [
       "       Tesc     Pvrl3      Grm2\n",
       "0  1.314772  1.774769  1.164707\n",
       "1  0.695193  2.171672  0.468714\n",
       "2  0.544767  2.187255  0.377925\n",
       "3  0.925574  2.159383  0.873194\n",
       "4  0.091284  2.185003  0.089993"
      ]
     },
     "execution_count": 9,
     "metadata": {},
     "output_type": "execute_result"
    }
   ],
   "source": [
    "stPlus_res.head()"
   ]
  },
  {
   "cell_type": "code",
   "execution_count": null,
   "metadata": {},
   "outputs": [],
   "source": []
  },
  {
   "cell_type": "code",
   "execution_count": null,
   "metadata": {},
   "outputs": [],
   "source": []
  },
  {
   "cell_type": "code",
   "execution_count": null,
   "metadata": {},
   "outputs": [],
   "source": []
  },
  {
   "cell_type": "markdown",
   "metadata": {},
   "source": [
    "# Reproduction of 5-fold cross-validation"
   ]
  },
  {
   "cell_type": "markdown",
   "metadata": {},
   "source": [
    "Load data"
   ]
  },
  {
   "cell_type": "code",
   "execution_count": 10,
   "metadata": {
    "ExecuteTime": {
     "end_time": "2021-01-28T14:06:00.797524Z",
     "start_time": "2021-01-28T14:05:47.850325Z"
    }
   },
   "outputs": [
    {
     "name": "stdout",
     "output_type": "stream",
     "text": [
      "(3405, 33) (1691, 15075)\n",
      "(33,)\n"
     ]
    }
   ],
   "source": [
    "spatial_df_file = './data/osmFISH_df.csv'\n",
    "scrna_df_file   = './data/Zeisel_df.csv'\n",
    "raw_spatial_df  = pd.read_csv(spatial_df_file)\n",
    "raw_scrna_df    = pd.read_csv(scrna_df_file)\n",
    "print(raw_spatial_df.shape, raw_scrna_df.shape) # cell by gene\n",
    "raw_shared_gene = np.intersect1d(raw_spatial_df.columns, raw_scrna_df.columns)\n",
    "print(raw_shared_gene.shape)"
   ]
  },
  {
   "cell_type": "code",
   "execution_count": 11,
   "metadata": {
    "ExecuteTime": {
     "end_time": "2021-01-28T14:10:43.727170Z",
     "start_time": "2021-01-28T14:06:00.799706Z"
    },
    "scrolled": false
   },
   "outputs": [
    {
     "name": "stdout",
     "output_type": "stream",
     "text": [
      "\n",
      "===== Fold 1 =====\n",
      "Number of train genes: 26, Number of test genes: 7\n",
      "Models will be saved in: ./model/stPlus-demo-fold1-5min*.pt\n",
      "\n",
      "Spatial transcriptomics data: 3405 cells * 26 genes\n",
      "Reference scRNA-seq data:     1691 cells * 15075 genes\n",
      "7 genes to be predicted\n",
      "\n",
      "Start initialization\n",
      "Start embedding\n",
      "\t[1] recon_loss: 11739.449, pred_loss: 74647.239, total_loss: 86386.688\n",
      "\t[2] recon_loss: 7977.249, pred_loss: 45591.339, total_loss: 53568.588\n",
      "\t[3] recon_loss: 6315.242, pred_loss: 40697.307, total_loss: 47012.549\n",
      "\t[4] recon_loss: 5338.903, pred_loss: 38085.516, total_loss: 43424.420\n",
      "\t[5] recon_loss: 4521.835, pred_loss: 36605.408, total_loss: 41127.243\n",
      "\t[6] recon_loss: 3885.873, pred_loss: 35562.838, total_loss: 39448.712\n",
      "\t[7] recon_loss: 3434.955, pred_loss: 34985.452, total_loss: 38420.407\n",
      "\t[8] recon_loss: 3090.548, pred_loss: 34581.929, total_loss: 37672.477\n",
      "\t[9] recon_loss: 2873.076, pred_loss: 34217.339, total_loss: 37090.415\n",
      "\t[10] recon_loss: 2734.121, pred_loss: 33895.281, total_loss: 36629.403\n",
      "\t[11] recon_loss: 2654.574, pred_loss: 33524.447, total_loss: 36179.021\n",
      "\t[12] recon_loss: 2622.877, pred_loss: 33274.877, total_loss: 35897.754\n",
      "\t[13] recon_loss: 2601.353, pred_loss: 33054.496, total_loss: 35655.850\n",
      "\t[14] recon_loss: 2585.795, pred_loss: 32888.497, total_loss: 35474.291\n",
      "\t[15] recon_loss: 2586.679, pred_loss: 32700.149, total_loss: 35286.830\n",
      "\t[16] recon_loss: 2588.459, pred_loss: 32518.901, total_loss: 35107.360\n",
      "\t[17] recon_loss: 2577.011, pred_loss: 32368.643, total_loss: 34945.654\n",
      "\t[18] recon_loss: 2570.933, pred_loss: 32201.130, total_loss: 34772.063\n",
      "\t[19] recon_loss: 2583.978, pred_loss: 32025.613, total_loss: 34609.590\n",
      "\t[20] recon_loss: 2573.693, pred_loss: 31833.046, total_loss: 34406.740\n",
      "\t[21] recon_loss: 2565.969, pred_loss: 31703.635, total_loss: 34269.604\n",
      "Start prediction\n",
      "\tUsing model 1 to predict\n",
      "\tUsing model 2 to predict\n",
      "\tUsing model 3 to predict\n",
      "\tUsing model 4 to predict\n",
      "\tUsing model 5 to predict\n",
      "\n",
      "===== Fold 2 =====\n",
      "Number of train genes: 26, Number of test genes: 7\n",
      "Models will be saved in: ./model/stPlus-demo-fold2-5min*.pt\n",
      "\n",
      "Spatial transcriptomics data: 3405 cells * 26 genes\n",
      "Reference scRNA-seq data:     1691 cells * 15075 genes\n",
      "7 genes to be predicted\n",
      "\n",
      "Start initialization\n",
      "Start embedding\n",
      "\t[1] recon_loss: 12657.711, pred_loss: 72791.593, total_loss: 85449.304\n",
      "\t[2] recon_loss: 7866.185, pred_loss: 44299.994, total_loss: 52166.179\n",
      "\t[3] recon_loss: 6028.242, pred_loss: 39719.498, total_loss: 45747.741\n",
      "\t[4] recon_loss: 4873.198, pred_loss: 37702.352, total_loss: 42575.549\n",
      "\t[5] recon_loss: 3820.719, pred_loss: 36517.340, total_loss: 40338.060\n",
      "\t[6] recon_loss: 3142.660, pred_loss: 35792.376, total_loss: 38935.036\n",
      "\t[7] recon_loss: 2591.975, pred_loss: 35285.075, total_loss: 37877.050\n",
      "\t[8] recon_loss: 2236.951, pred_loss: 34895.579, total_loss: 37132.531\n",
      "\t[9] recon_loss: 1763.605, pred_loss: 34620.893, total_loss: 36384.498\n",
      "\t[10] recon_loss: 1414.014, pred_loss: 34380.580, total_loss: 35794.594\n",
      "\t[11] recon_loss: 1308.097, pred_loss: 34139.903, total_loss: 35448.001\n",
      "\t[12] recon_loss: 1211.862, pred_loss: 33883.886, total_loss: 35095.747\n",
      "\t[13] recon_loss: 1158.549, pred_loss: 33717.008, total_loss: 34875.557\n",
      "\t[14] recon_loss: 1131.330, pred_loss: 33536.603, total_loss: 34667.933\n",
      "\t[15] recon_loss: 1104.900, pred_loss: 33367.221, total_loss: 34472.121\n",
      "\t[16] recon_loss: 1094.709, pred_loss: 33222.699, total_loss: 34317.408\n",
      "\t[17] recon_loss: 1084.159, pred_loss: 33049.196, total_loss: 34133.354\n",
      "\t[18] recon_loss: 1086.589, pred_loss: 32945.729, total_loss: 34032.318\n",
      "Start prediction\n",
      "\tUsing model 1 to predict\n",
      "\tUsing model 2 to predict\n",
      "\tUsing model 3 to predict\n",
      "\tUsing model 4 to predict\n",
      "\tUsing model 5 to predict\n",
      "\n",
      "===== Fold 3 =====\n",
      "Number of train genes: 26, Number of test genes: 7\n",
      "Models will be saved in: ./model/stPlus-demo-fold3-5min*.pt\n",
      "\n",
      "Spatial transcriptomics data: 3405 cells * 26 genes\n",
      "Reference scRNA-seq data:     1691 cells * 15075 genes\n",
      "7 genes to be predicted\n",
      "\n",
      "Start initialization\n",
      "Start embedding\n",
      "\t[1] recon_loss: 12390.300, pred_loss: 72342.343, total_loss: 84732.644\n",
      "\t[2] recon_loss: 8188.802, pred_loss: 44942.304, total_loss: 53131.106\n",
      "\t[3] recon_loss: 6291.949, pred_loss: 40377.416, total_loss: 46669.365\n",
      "\t[4] recon_loss: 5169.492, pred_loss: 38220.132, total_loss: 43389.625\n",
      "\t[5] recon_loss: 4417.117, pred_loss: 36790.270, total_loss: 41207.387\n",
      "\t[6] recon_loss: 3828.236, pred_loss: 35789.447, total_loss: 39617.683\n",
      "\t[7] recon_loss: 3408.590, pred_loss: 35147.304, total_loss: 38555.894\n",
      "\t[8] recon_loss: 3131.592, pred_loss: 34748.088, total_loss: 37879.680\n",
      "\t[9] recon_loss: 2956.274, pred_loss: 34420.318, total_loss: 37376.592\n",
      "\t[10] recon_loss: 2861.188, pred_loss: 34120.650, total_loss: 36981.837\n",
      "\t[11] recon_loss: 2804.042, pred_loss: 33846.566, total_loss: 36650.609\n",
      "\t[12] recon_loss: 2771.452, pred_loss: 33637.186, total_loss: 36408.639\n",
      "\t[13] recon_loss: 2762.259, pred_loss: 33450.211, total_loss: 36212.469\n",
      "\t[14] recon_loss: 2789.141, pred_loss: 33273.199, total_loss: 36062.339\n",
      "\t[15] recon_loss: 2726.271, pred_loss: 33034.970, total_loss: 35761.242\n",
      "\t[16] recon_loss: 2620.059, pred_loss: 32869.676, total_loss: 35489.735\n",
      "\t[17] recon_loss: 2573.334, pred_loss: 32747.131, total_loss: 35320.465\n",
      "\t[18] recon_loss: 2549.012, pred_loss: 32510.921, total_loss: 35059.932\n",
      "\t[19] recon_loss: 2525.562, pred_loss: 32344.204, total_loss: 34869.766\n",
      "\t[20] recon_loss: 2509.090, pred_loss: 32188.711, total_loss: 34697.800\n",
      "\t[21] recon_loss: 2500.812, pred_loss: 32067.995, total_loss: 34568.808\n",
      "Start prediction\n",
      "\tUsing model 1 to predict\n",
      "\tUsing model 2 to predict\n",
      "\tUsing model 3 to predict\n",
      "\tUsing model 4 to predict\n",
      "\tUsing model 5 to predict\n",
      "\n",
      "===== Fold 4 =====\n",
      "Number of train genes: 27, Number of test genes: 6\n",
      "Models will be saved in: ./model/stPlus-demo-fold4-5min*.pt\n",
      "\n",
      "Spatial transcriptomics data: 3405 cells * 27 genes\n",
      "Reference scRNA-seq data:     1691 cells * 15075 genes\n",
      "6 genes to be predicted\n",
      "\n",
      "Start initialization\n",
      "Start embedding\n",
      "\t[1] recon_loss: 12853.981, pred_loss: 76292.980, total_loss: 89146.959\n",
      "\t[2] recon_loss: 8066.390, pred_loss: 46920.068, total_loss: 54986.459\n",
      "\t[3] recon_loss: 6111.782, pred_loss: 41340.893, total_loss: 47452.675\n",
      "\t[4] recon_loss: 4921.521, pred_loss: 38585.130, total_loss: 43506.651\n",
      "\t[5] recon_loss: 3965.840, pred_loss: 37329.005, total_loss: 41294.846\n",
      "\t[6] recon_loss: 2918.404, pred_loss: 36594.033, total_loss: 39512.437\n",
      "\t[7] recon_loss: 2192.198, pred_loss: 36087.175, total_loss: 38279.373\n",
      "\t[8] recon_loss: 1796.509, pred_loss: 35672.266, total_loss: 37468.775\n",
      "\t[9] recon_loss: 1590.475, pred_loss: 35405.757, total_loss: 36996.232\n",
      "\t[10] recon_loss: 1471.140, pred_loss: 35062.921, total_loss: 36534.061\n",
      "\t[11] recon_loss: 1422.799, pred_loss: 34862.397, total_loss: 36285.196\n",
      "\t[12] recon_loss: 1406.874, pred_loss: 34604.391, total_loss: 36011.264\n",
      "\t[13] recon_loss: 1404.298, pred_loss: 34375.869, total_loss: 35780.167\n",
      "\t[14] recon_loss: 1377.153, pred_loss: 34184.811, total_loss: 35561.964\n",
      "\t[15] recon_loss: 1379.733, pred_loss: 34028.270, total_loss: 35408.004\n",
      "\t[16] recon_loss: 1374.864, pred_loss: 33812.131, total_loss: 35186.995\n",
      "\t[17] recon_loss: 1366.244, pred_loss: 33660.751, total_loss: 35026.996\n",
      "\t[18] recon_loss: 1366.140, pred_loss: 33472.101, total_loss: 34838.240\n",
      "\t[19] recon_loss: 1362.694, pred_loss: 33290.717, total_loss: 34653.411\n",
      "\t[20] recon_loss: 1375.958, pred_loss: 33077.495, total_loss: 34453.453\n",
      "\t[21] recon_loss: 1371.388, pred_loss: 32947.807, total_loss: 34319.194\n",
      "Start prediction\n",
      "\tUsing model 1 to predict\n",
      "\tUsing model 2 to predict\n",
      "\tUsing model 3 to predict\n",
      "\tUsing model 4 to predict\n",
      "\tUsing model 5 to predict\n",
      "\n",
      "===== Fold 5 =====\n",
      "Number of train genes: 27, Number of test genes: 6\n",
      "Models will be saved in: ./model/stPlus-demo-fold5-5min*.pt\n",
      "\n",
      "Spatial transcriptomics data: 3405 cells * 27 genes\n",
      "Reference scRNA-seq data:     1691 cells * 15075 genes\n",
      "6 genes to be predicted\n",
      "\n",
      "Start initialization\n",
      "Start embedding\n",
      "\t[1] recon_loss: 12819.710, pred_loss: 75491.336, total_loss: 88311.046\n",
      "\t[2] recon_loss: 7951.419, pred_loss: 45904.254, total_loss: 53855.673\n",
      "\t[3] recon_loss: 5924.818, pred_loss: 41283.116, total_loss: 47207.934\n",
      "\t[4] recon_loss: 4825.185, pred_loss: 38862.834, total_loss: 43688.018\n",
      "\t[5] recon_loss: 3889.859, pred_loss: 37602.153, total_loss: 41492.012\n"
     ]
    },
    {
     "name": "stdout",
     "output_type": "stream",
     "text": [
      "\t[6] recon_loss: 3144.046, pred_loss: 36754.673, total_loss: 39898.719\n",
      "\t[7] recon_loss: 2642.884, pred_loss: 36131.823, total_loss: 38774.706\n",
      "\t[8] recon_loss: 2291.286, pred_loss: 35632.580, total_loss: 37923.866\n",
      "\t[9] recon_loss: 2064.744, pred_loss: 35276.954, total_loss: 37341.699\n",
      "\t[10] recon_loss: 1926.914, pred_loss: 35039.834, total_loss: 36966.749\n",
      "\t[11] recon_loss: 1858.452, pred_loss: 34791.571, total_loss: 36650.023\n",
      "\t[12] recon_loss: 1827.175, pred_loss: 34564.738, total_loss: 36391.914\n",
      "\t[13] recon_loss: 1769.312, pred_loss: 34372.338, total_loss: 36141.650\n",
      "\t[14] recon_loss: 1712.696, pred_loss: 34178.038, total_loss: 35890.734\n",
      "\t[15] recon_loss: 1664.979, pred_loss: 34033.348, total_loss: 35698.326\n",
      "\t[16] recon_loss: 1641.416, pred_loss: 33875.078, total_loss: 35516.495\n",
      "\t[17] recon_loss: 1632.032, pred_loss: 33717.411, total_loss: 35349.443\n",
      "\t[18] recon_loss: 1637.649, pred_loss: 33601.531, total_loss: 35239.181\n",
      "Start prediction\n",
      "\tUsing model 1 to predict\n",
      "\tUsing model 2 to predict\n",
      "\tUsing model 3 to predict\n",
      "\tUsing model 4 to predict\n",
      "\tUsing model 5 to predict\n"
     ]
    }
   ],
   "source": [
    "from sklearn.model_selection import KFold\n",
    "kf = KFold(n_splits=5, shuffle=True, random_state=0)\n",
    "kf.get_n_splits(raw_shared_gene)\n",
    "torch.manual_seed(10)\n",
    "idx = 1\n",
    "for train_ind, test_ind in kf.split(raw_shared_gene):    \n",
    "    print(\"\\n===== Fold %d =====\\nNumber of train genes: %d, Number of test genes: %d\"%(idx, len(train_ind), len(test_ind)))\n",
    "    train_gene = raw_shared_gene[train_ind]\n",
    "    test_gene  = raw_shared_gene[test_ind]\n",
    "    test_spatial_df = raw_spatial_df[test_gene]\n",
    "    spatial_df = raw_spatial_df[train_gene]\n",
    "    scrna_df   = raw_scrna_df\n",
    "    \n",
    "    if idx == 1:\n",
    "        all_pred_res = pd.DataFrame(np.zeros((spatial_df.shape[0],raw_shared_gene.shape[0])), columns=raw_shared_gene) \n",
    "    save_path_prefix = './model/stPlus-demo-fold%d'%(idx)\n",
    "    stPlus_res = stPlus(spatial_df, scrna_df, test_gene, save_path_prefix)\n",
    "    all_pred_res[stPlus_res.columns.values] = stPlus_res\n",
    "    idx += 1"
   ]
  },
  {
   "cell_type": "code",
   "execution_count": 12,
   "metadata": {
    "ExecuteTime": {
     "end_time": "2021-01-28T14:10:44.067192Z",
     "start_time": "2021-01-28T14:10:43.729398Z"
    }
   },
   "outputs": [
    {
     "name": "stdout",
     "output_type": "stream",
     "text": [
      "0.2191236775005986\n"
     ]
    }
   ],
   "source": [
    "corr_res = calc_corr(raw_spatial_df, all_pred_res, raw_shared_gene)\n",
    "print(np.median(corr_res))"
   ]
  },
  {
   "cell_type": "markdown",
   "metadata": {},
   "source": [
    "Note that there might be a slight difference in the results using different GPUs, even with the same version of all Python packages."
   ]
  },
  {
   "cell_type": "code",
   "execution_count": null,
   "metadata": {},
   "outputs": [],
   "source": []
  }
 ],
 "metadata": {
  "kernelspec": {
   "display_name": "pyro",
   "language": "python",
   "name": "pyro"
  },
  "language_info": {
   "codemirror_mode": {
    "name": "ipython",
    "version": 3
   },
   "file_extension": ".py",
   "mimetype": "text/x-python",
   "name": "python",
   "nbconvert_exporter": "python",
   "pygments_lexer": "ipython3",
   "version": "3.8.5"
  },
  "toc": {
   "base_numbering": 1,
   "nav_menu": {},
   "number_sections": true,
   "sideBar": true,
   "skip_h1_title": false,
   "title_cell": "Table of Contents",
   "title_sidebar": "Contents",
   "toc_cell": false,
   "toc_position": {
    "height": "calc(100% - 180px)",
    "left": "10px",
    "top": "150px",
    "width": "262px"
   },
   "toc_section_display": true,
   "toc_window_display": true
  }
 },
 "nbformat": 4,
 "nbformat_minor": 2
}
